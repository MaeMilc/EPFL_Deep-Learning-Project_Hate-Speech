{
  "cells": [
    {
      "cell_type": "markdown",
      "metadata": {
        "id": "i9PwFGv5VivQ"
      },
      "source": [
        "# Deep Learning Project\n",
        "\n",
        "TODO Add names\n",
        "pip install libretranslate\n",
        "then run\n",
        "libretranslate\n",
        "\n"
      ]
    },
    {
      "cell_type": "code",
      "execution_count": 1,
      "metadata": {
        "execution": {
          "iopub.execute_input": "2024-03-13T08:42:01.948253Z",
          "iopub.status.busy": "2024-03-13T08:42:01.946314Z",
          "iopub.status.idle": "2024-03-13T08:42:04.865056Z",
          "shell.execute_reply": "2024-03-13T08:42:04.864006Z",
          "shell.execute_reply.started": "2024-03-13T08:42:01.948171Z"
        },
        "id": "E_8PRTZ0V0FH",
        "tags": []
      },
      "outputs": [],
      "source": [
        "\n",
        "from pathlib import Path\n",
        "\n",
        "import matplotlib.pyplot as plt\n",
        "import numpy as np\n",
        "import pandas as pd\n",
        "import torch\n",
        "import torch.nn as nn\n",
        "import torchvision\n",
        "import torchvision.datasets as datasets\n",
        "import torchvision.models as models\n",
        "import torchvision.utils as utils\n",
        "import torchvision.transforms as transforms\n",
        "from torch.utils.data import DataLoader"
      ]
    },
    {
      "cell_type": "code",
      "execution_count": 3,
      "metadata": {
        "colab": {
          "base_uri": "https://localhost:8080/"
        },
        "execution": {
          "iopub.execute_input": "2024-03-13T08:42:04.867559Z",
          "iopub.status.busy": "2024-03-13T08:42:04.866822Z",
          "iopub.status.idle": "2024-03-13T08:42:04.909623Z",
          "shell.execute_reply": "2024-03-13T08:42:04.906942Z",
          "shell.execute_reply.started": "2024-03-13T08:42:04.867496Z"
        },
        "id": "0E0BQVS7_ALt",
        "outputId": "df39c0ff-444e-4b6a-a392-bd99e1adc77a",
        "tags": []
      },
      "outputs": [
        {
          "name": "stdout",
          "output_type": "stream",
          "text": [
            "Limiting the number of threads to 1\n",
            "PyTorch is using 1 threads\n"
          ]
        }
      ],
      "source": [
        "#For efficient usage of the hardware resources when running on JupyterHub EPFL,\n",
        "# we will limit the number of threads. If you are running this code on your local\n",
        "# machine or on colab, the following code will not do anything.\n",
        "if getpass.getuser() == \"jovyan\":\n",
        "    num_threads_limit = 4\n",
        "elif re.search('^https://.*noto.*\\.epfl\\.ch$', os.environ.get(\"EXTERNAL_URL\", \"\")) != None:\n",
        "    num_threads_limit = 2\n",
        "else:\n",
        "    num_threads_limit = torch.get_num_threads()\n",
        "print(f\"Limiting the number of threads to {num_threads_limit}\")\n",
        "torch.set_num_threads(num_threads_limit)\n",
        "print(f\"PyTorch is using {torch.get_num_threads()} threads\")\n",
        "\n",
        "_ = torch.set_flush_denormal(True) # To avoid long training time on CPU"
      ]
    },
    {
      "cell_type": "markdown",
      "metadata": {},
      "source": [
        "**Add the Dataset**"
      ]
    },
    {
      "cell_type": "code",
      "execution_count": 4,
      "metadata": {
        "colab": {
          "base_uri": "https://localhost:8080/"
        },
        "execution": {
          "iopub.execute_input": "2024-03-13T08:42:04.914077Z",
          "iopub.status.busy": "2024-03-13T08:42:04.913030Z",
          "iopub.status.idle": "2024-03-13T08:42:07.083537Z",
          "shell.execute_reply": "2024-03-13T08:42:07.082538Z",
          "shell.execute_reply.started": "2024-03-13T08:42:04.913976Z"
        },
        "id": "D5Vv-3jyEly3",
        "outputId": "5d7acea3-03aa-4d0a-b25c-8bc858515942",
        "tags": []
      },
      "outputs": [
        {
          "name": "stdout",
          "output_type": "stream",
          "text": [
            "Using downloaded and verified file: ./data/cifar-10-python.tar.gz\n",
            "Extracting ./data/cifar-10-python.tar.gz to ./data\n",
            "Files already downloaded and verified\n"
          ]
        }
      ],
      "source": [
        "from torchvision import transforms\n",
        "transforms_cifar = transforms.Compose([\n",
        "    transforms.ToTensor(),\n",
        "    transforms.Normalize(mean=[0.485, 0.456, 0.406], std=[0.229, 0.224, 0.225]),\n",
        "])\n",
        "\n",
        "# Loading the CIFAR-10 dataset:\n",
        "train_dataset = datasets.CIFAR10(root='./data', train=True, download=True, transform=transforms_cifar)\n",
        "test_dataset = datasets.CIFAR10(root='./data', train=False, download=True, transform=transforms_cifar)\n",
        "\n"
      ]
    },
    {
      "cell_type": "markdown",
      "metadata": {
        "id": "4dUdYGXaRJFC"
      },
      "source": [
        "**Load the pretrained Model**"
      ]
    },
    {
      "cell_type": "code",
      "execution_count": 17,
      "metadata": {
        "colab": {
          "base_uri": "https://localhost:8080/"
        },
        "execution": {
          "iopub.execute_input": "2024-03-13T08:42:24.235718Z",
          "iopub.status.busy": "2024-03-13T08:42:24.234988Z",
          "iopub.status.idle": "2024-03-13T08:43:40.778094Z",
          "shell.execute_reply": "2024-03-13T08:43:40.200038Z",
          "shell.execute_reply.started": "2024-03-13T08:42:24.235653Z"
        },
        "id": "ME6e6Mh7EvMB",
        "outputId": "6b40f2f2-77f0-4f31-f20e-ee0c9684c1b3",
        "tags": []
      },
      "outputs": [
        {
          "name": "stdout",
          "output_type": "stream",
          "text": [
            "model inference time in seconds: 3.3402442932128906\n",
            "model weights file size in MB: 8.767388343811035\n",
            "model size 8.767388343811035\n",
            "teacher performance:\n",
            "eval Loss: 0.2463,  ACC: 0.9355, F1-weighted: 0.9315\n",
            "----------------------------------------------------------------\n",
            "        Layer (type)               Output Shape         Param #\n",
            "================================================================\n",
            "            Conv2d-1           [-1, 32, 32, 32]             864\n",
            "       BatchNorm2d-2           [-1, 32, 32, 32]              64\n",
            "             ReLU6-3           [-1, 32, 32, 32]               0\n",
            "            Conv2d-4           [-1, 32, 32, 32]             288\n",
            "       BatchNorm2d-5           [-1, 32, 32, 32]              64\n",
            "             ReLU6-6           [-1, 32, 32, 32]               0\n",
            "            Conv2d-7           [-1, 16, 32, 32]             512\n",
            "       BatchNorm2d-8           [-1, 16, 32, 32]              32\n",
            "  InvertedResidual-9           [-1, 16, 32, 32]               0\n",
            "           Conv2d-10           [-1, 96, 32, 32]           1,536\n",
            "      BatchNorm2d-11           [-1, 96, 32, 32]             192\n",
            "            ReLU6-12           [-1, 96, 32, 32]               0\n",
            "           Conv2d-13           [-1, 96, 32, 32]             864\n",
            "      BatchNorm2d-14           [-1, 96, 32, 32]             192\n",
            "            ReLU6-15           [-1, 96, 32, 32]               0\n",
            "           Conv2d-16           [-1, 24, 32, 32]           2,304\n",
            "      BatchNorm2d-17           [-1, 24, 32, 32]              48\n",
            " InvertedResidual-18           [-1, 24, 32, 32]               0\n",
            "           Conv2d-19          [-1, 144, 32, 32]           3,456\n",
            "      BatchNorm2d-20          [-1, 144, 32, 32]             288\n",
            "            ReLU6-21          [-1, 144, 32, 32]               0\n",
            "           Conv2d-22          [-1, 144, 32, 32]           1,296\n",
            "      BatchNorm2d-23          [-1, 144, 32, 32]             288\n",
            "            ReLU6-24          [-1, 144, 32, 32]               0\n",
            "           Conv2d-25           [-1, 24, 32, 32]           3,456\n",
            "      BatchNorm2d-26           [-1, 24, 32, 32]              48\n",
            " InvertedResidual-27           [-1, 24, 32, 32]               0\n",
            "           Conv2d-28          [-1, 144, 32, 32]           3,456\n",
            "      BatchNorm2d-29          [-1, 144, 32, 32]             288\n",
            "            ReLU6-30          [-1, 144, 32, 32]               0\n",
            "           Conv2d-31          [-1, 144, 16, 16]           1,296\n",
            "      BatchNorm2d-32          [-1, 144, 16, 16]             288\n",
            "            ReLU6-33          [-1, 144, 16, 16]               0\n",
            "           Conv2d-34           [-1, 32, 16, 16]           4,608\n",
            "      BatchNorm2d-35           [-1, 32, 16, 16]              64\n",
            " InvertedResidual-36           [-1, 32, 16, 16]               0\n",
            "           Conv2d-37          [-1, 192, 16, 16]           6,144\n",
            "      BatchNorm2d-38          [-1, 192, 16, 16]             384\n",
            "            ReLU6-39          [-1, 192, 16, 16]               0\n",
            "           Conv2d-40          [-1, 192, 16, 16]           1,728\n",
            "      BatchNorm2d-41          [-1, 192, 16, 16]             384\n",
            "            ReLU6-42          [-1, 192, 16, 16]               0\n",
            "           Conv2d-43           [-1, 32, 16, 16]           6,144\n",
            "      BatchNorm2d-44           [-1, 32, 16, 16]              64\n",
            " InvertedResidual-45           [-1, 32, 16, 16]               0\n",
            "           Conv2d-46          [-1, 192, 16, 16]           6,144\n",
            "      BatchNorm2d-47          [-1, 192, 16, 16]             384\n",
            "            ReLU6-48          [-1, 192, 16, 16]               0\n",
            "           Conv2d-49          [-1, 192, 16, 16]           1,728\n",
            "      BatchNorm2d-50          [-1, 192, 16, 16]             384\n",
            "            ReLU6-51          [-1, 192, 16, 16]               0\n",
            "           Conv2d-52           [-1, 32, 16, 16]           6,144\n",
            "      BatchNorm2d-53           [-1, 32, 16, 16]              64\n",
            " InvertedResidual-54           [-1, 32, 16, 16]               0\n",
            "           Conv2d-55          [-1, 192, 16, 16]           6,144\n",
            "      BatchNorm2d-56          [-1, 192, 16, 16]             384\n",
            "            ReLU6-57          [-1, 192, 16, 16]               0\n",
            "           Conv2d-58            [-1, 192, 8, 8]           1,728\n",
            "      BatchNorm2d-59            [-1, 192, 8, 8]             384\n",
            "            ReLU6-60            [-1, 192, 8, 8]               0\n",
            "           Conv2d-61             [-1, 64, 8, 8]          12,288\n",
            "      BatchNorm2d-62             [-1, 64, 8, 8]             128\n",
            " InvertedResidual-63             [-1, 64, 8, 8]               0\n",
            "           Conv2d-64            [-1, 384, 8, 8]          24,576\n",
            "      BatchNorm2d-65            [-1, 384, 8, 8]             768\n",
            "            ReLU6-66            [-1, 384, 8, 8]               0\n",
            "           Conv2d-67            [-1, 384, 8, 8]           3,456\n",
            "      BatchNorm2d-68            [-1, 384, 8, 8]             768\n",
            "            ReLU6-69            [-1, 384, 8, 8]               0\n",
            "           Conv2d-70             [-1, 64, 8, 8]          24,576\n",
            "      BatchNorm2d-71             [-1, 64, 8, 8]             128\n",
            " InvertedResidual-72             [-1, 64, 8, 8]               0\n",
            "           Conv2d-73            [-1, 384, 8, 8]          24,576\n",
            "      BatchNorm2d-74            [-1, 384, 8, 8]             768\n",
            "            ReLU6-75            [-1, 384, 8, 8]               0\n",
            "           Conv2d-76            [-1, 384, 8, 8]           3,456\n",
            "      BatchNorm2d-77            [-1, 384, 8, 8]             768\n",
            "            ReLU6-78            [-1, 384, 8, 8]               0\n",
            "           Conv2d-79             [-1, 64, 8, 8]          24,576\n",
            "      BatchNorm2d-80             [-1, 64, 8, 8]             128\n",
            " InvertedResidual-81             [-1, 64, 8, 8]               0\n",
            "           Conv2d-82            [-1, 384, 8, 8]          24,576\n",
            "      BatchNorm2d-83            [-1, 384, 8, 8]             768\n",
            "            ReLU6-84            [-1, 384, 8, 8]               0\n",
            "           Conv2d-85            [-1, 384, 8, 8]           3,456\n",
            "      BatchNorm2d-86            [-1, 384, 8, 8]             768\n",
            "            ReLU6-87            [-1, 384, 8, 8]               0\n",
            "           Conv2d-88             [-1, 64, 8, 8]          24,576\n",
            "      BatchNorm2d-89             [-1, 64, 8, 8]             128\n",
            " InvertedResidual-90             [-1, 64, 8, 8]               0\n",
            "           Conv2d-91            [-1, 384, 8, 8]          24,576\n",
            "      BatchNorm2d-92            [-1, 384, 8, 8]             768\n",
            "            ReLU6-93            [-1, 384, 8, 8]               0\n",
            "           Conv2d-94            [-1, 384, 8, 8]           3,456\n",
            "      BatchNorm2d-95            [-1, 384, 8, 8]             768\n",
            "            ReLU6-96            [-1, 384, 8, 8]               0\n",
            "           Conv2d-97             [-1, 96, 8, 8]          36,864\n",
            "      BatchNorm2d-98             [-1, 96, 8, 8]             192\n",
            " InvertedResidual-99             [-1, 96, 8, 8]               0\n",
            "          Conv2d-100            [-1, 576, 8, 8]          55,296\n",
            "     BatchNorm2d-101            [-1, 576, 8, 8]           1,152\n",
            "           ReLU6-102            [-1, 576, 8, 8]               0\n",
            "          Conv2d-103            [-1, 576, 8, 8]           5,184\n",
            "     BatchNorm2d-104            [-1, 576, 8, 8]           1,152\n",
            "           ReLU6-105            [-1, 576, 8, 8]               0\n",
            "          Conv2d-106             [-1, 96, 8, 8]          55,296\n",
            "     BatchNorm2d-107             [-1, 96, 8, 8]             192\n",
            "InvertedResidual-108             [-1, 96, 8, 8]               0\n",
            "          Conv2d-109            [-1, 576, 8, 8]          55,296\n",
            "     BatchNorm2d-110            [-1, 576, 8, 8]           1,152\n",
            "           ReLU6-111            [-1, 576, 8, 8]               0\n",
            "          Conv2d-112            [-1, 576, 8, 8]           5,184\n",
            "     BatchNorm2d-113            [-1, 576, 8, 8]           1,152\n",
            "           ReLU6-114            [-1, 576, 8, 8]               0\n",
            "          Conv2d-115             [-1, 96, 8, 8]          55,296\n",
            "     BatchNorm2d-116             [-1, 96, 8, 8]             192\n",
            "InvertedResidual-117             [-1, 96, 8, 8]               0\n",
            "          Conv2d-118            [-1, 576, 8, 8]          55,296\n",
            "     BatchNorm2d-119            [-1, 576, 8, 8]           1,152\n",
            "           ReLU6-120            [-1, 576, 8, 8]               0\n",
            "          Conv2d-121            [-1, 576, 4, 4]           5,184\n",
            "     BatchNorm2d-122            [-1, 576, 4, 4]           1,152\n",
            "           ReLU6-123            [-1, 576, 4, 4]               0\n",
            "          Conv2d-124            [-1, 160, 4, 4]          92,160\n",
            "     BatchNorm2d-125            [-1, 160, 4, 4]             320\n",
            "InvertedResidual-126            [-1, 160, 4, 4]               0\n",
            "          Conv2d-127            [-1, 960, 4, 4]         153,600\n",
            "     BatchNorm2d-128            [-1, 960, 4, 4]           1,920\n",
            "           ReLU6-129            [-1, 960, 4, 4]               0\n",
            "          Conv2d-130            [-1, 960, 4, 4]           8,640\n",
            "     BatchNorm2d-131            [-1, 960, 4, 4]           1,920\n",
            "           ReLU6-132            [-1, 960, 4, 4]               0\n",
            "          Conv2d-133            [-1, 160, 4, 4]         153,600\n",
            "     BatchNorm2d-134            [-1, 160, 4, 4]             320\n",
            "InvertedResidual-135            [-1, 160, 4, 4]               0\n",
            "          Conv2d-136            [-1, 960, 4, 4]         153,600\n",
            "     BatchNorm2d-137            [-1, 960, 4, 4]           1,920\n",
            "           ReLU6-138            [-1, 960, 4, 4]               0\n",
            "          Conv2d-139            [-1, 960, 4, 4]           8,640\n",
            "     BatchNorm2d-140            [-1, 960, 4, 4]           1,920\n",
            "           ReLU6-141            [-1, 960, 4, 4]               0\n",
            "          Conv2d-142            [-1, 160, 4, 4]         153,600\n",
            "     BatchNorm2d-143            [-1, 160, 4, 4]             320\n",
            "InvertedResidual-144            [-1, 160, 4, 4]               0\n",
            "          Conv2d-145            [-1, 960, 4, 4]         153,600\n",
            "     BatchNorm2d-146            [-1, 960, 4, 4]           1,920\n",
            "           ReLU6-147            [-1, 960, 4, 4]               0\n",
            "          Conv2d-148            [-1, 960, 4, 4]           8,640\n",
            "     BatchNorm2d-149            [-1, 960, 4, 4]           1,920\n",
            "           ReLU6-150            [-1, 960, 4, 4]               0\n",
            "          Conv2d-151            [-1, 320, 4, 4]         307,200\n",
            "     BatchNorm2d-152            [-1, 320, 4, 4]             640\n",
            "InvertedResidual-153            [-1, 320, 4, 4]               0\n",
            "          Conv2d-154           [-1, 1280, 4, 4]         409,600\n",
            "     BatchNorm2d-155           [-1, 1280, 4, 4]           2,560\n",
            "           ReLU6-156           [-1, 1280, 4, 4]               0\n",
            "         Dropout-157                 [-1, 1280]               0\n",
            "          Linear-158                   [-1, 10]          12,810\n",
            "================================================================\n",
            "Total params: 2,236,682\n",
            "Trainable params: 2,236,682\n",
            "Non-trainable params: 0\n",
            "----------------------------------------------------------------\n",
            "Input size (MB): 0.01\n",
            "Forward/backward pass size (MB): 37.54\n",
            "Params size (MB): 8.53\n",
            "Estimated Total Size (MB): 46.09\n",
            "----------------------------------------------------------------\n"
          ]
        }
      ],
      "source": [
        "# MIT Copyright (c) 2019 Huy Phan. Model taken from https://github.com/huyvnphan/PyTorch_CIFAR10/\n",
        "\n",
        "# Note: make sure to add the 'mobilenet_v2.pt' and 'mobilenetv2.py' files into the current working directory\n",
        "from mobilenetv2 import mobilenet_v2\n",
        "\n",
        "# Pretrained teacher model\n",
        "teacher_model = mobilenet_v2()\n",
        "get_model_inference_time(teacher_model)\n",
        "teacher_model_weights_path = 'mobilenet_v2.pt'\n",
        "teacher_model.load_state_dict(torch.load(teacher_model_weights_path))\n",
        "teacher_model.to(device)\n",
        "\n",
        "print('model size', get_model_size(teacher_model_weights_path))\n",
        "\n",
        "print('teacher performance:')\n",
        "test_loss, test_metrics = evaluate(teacher_model, criterion, metrics, test_loader, device)\n",
        "\n",
        "from torchsummary import summary\n",
        "summary(teacher_model, (3, 32, 32))\n",
        "#accuracy of a teacher model should be around 0.93\n"
      ]
    }
  ],
  "metadata": {
    "accelerator": "GPU",
    "colab": {
      "gpuType": "T4",
      "provenance": [],
      "toc_visible": true
    },
    "kernelspec": {
      "display_name": "Python 3",
      "language": "python",
      "name": "python3"
    },
    "language_info": {
      "codemirror_mode": {
        "name": "ipython",
        "version": 3
      },
      "file_extension": ".py",
      "mimetype": "text/x-python",
      "name": "python",
      "nbconvert_exporter": "python",
      "pygments_lexer": "ipython3",
      "version": "3.10.9"
    }
  },
  "nbformat": 4,
  "nbformat_minor": 0
}
